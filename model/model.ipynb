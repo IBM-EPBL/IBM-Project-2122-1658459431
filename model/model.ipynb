{
  "nbformat": 4,
  "nbformat_minor": 0,
  "metadata": {
    "colab": {
      "provenance": []
    },
    "kernelspec": {
      "name": "python3",
      "display_name": "Python 3"
    },
    "language_info": {
      "name": "python"
    }
  },
  "cells": [
    {
      "cell_type": "markdown",
      "source": [
        "# **Pre-process the data**"
      ],
      "metadata": {
        "id": "8xgNlf3Gb2Lu"
      }
    },
    {
      "cell_type": "code",
      "source": [
        "import pandas as pd\n",
        "import numpy as np\n",
        "import matplotlib as plt\n",
        "from sklearn.preprocessing import LabelEncoder\n",
        "import pickle"
      ],
      "metadata": {
        "id": "h_nsqzsOcE79"
      },
      "execution_count": null,
      "outputs": []
    }
  ]
}